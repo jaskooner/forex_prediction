{
 "metadata": {
  "language_info": {
   "codemirror_mode": {
    "name": "ipython",
    "version": 3
   },
   "file_extension": ".py",
   "mimetype": "text/x-python",
   "name": "python",
   "nbconvert_exporter": "python",
   "pygments_lexer": "ipython3",
   "version": "3.7.5-final"
  },
  "orig_nbformat": 2,
  "kernelspec": {
   "name": "python3",
   "display_name": "Python 3.7.5 64-bit ('ml_time_seq_env': conda)",
   "metadata": {
    "interpreter": {
     "hash": "bfb491656395883115ac27438cfb22efc9946e74e1156cf0fe5b466cb277822c"
    }
   }
  }
 },
 "nbformat": 4,
 "nbformat_minor": 2,
 "cells": [
  {
   "cell_type": "code",
   "execution_count": 1,
   "metadata": {},
   "outputs": [],
   "source": [
    "from datetime import datetime\n",
    "import pandas_datareader.data as web\n",
    "import numpy as np"
   ]
  },
  {
   "cell_type": "code",
   "execution_count": null,
   "metadata": {},
   "outputs": [],
   "source": [
    "forex_df = web.DataReader(name=\"GBP/INR\", data_source=\"av-forex-daily\", start=datetime(2014,1,1), end=datetime(2019,12,31), api_key=\"7Y3UNPFOBVKM8XPA7Y3UNPFOBVKM8XPA\")"
   ]
  },
  {
   "cell_type": "code",
   "execution_count": null,
   "metadata": {},
   "outputs": [],
   "source": [
    "forex_open_df = forex_df[\"open\"]"
   ]
  },
  {
   "cell_type": "code",
   "execution_count": null,
   "metadata": {},
   "outputs": [],
   "source": [
    "forex_series = forex_open_df.to_numpy()"
   ]
  },
  {
   "cell_type": "code",
   "execution_count": null,
   "metadata": {},
   "outputs": [],
   "source": [
    "def split_seq(sequence, n_steps):\n",
    "    X = list()\n",
    "    for i in range(len(sequence)):\n",
    "        end_ix = i + n_steps\n",
    "        if end_ix > len(sequence) - 1:\n",
    "            break\n",
    "        seqx = sequence[i:end_ix]\n",
    "        X.append(seqx)\n",
    "    return np.array(X)\n",
    "\n"
   ]
  },
  {
   "cell_type": "code",
   "execution_count": null,
   "metadata": {},
   "outputs": [],
   "source": [
    "n_steps = 50\n",
    "series = split_seq(forex_series, n_steps + 10)\n",
    "series.shape"
   ]
  },
  {
   "cell_type": "code",
   "execution_count": null,
   "metadata": {},
   "outputs": [],
   "source": [
    "series = series.reshape((series.shape[0], n_steps + 10, 1))\n",
    "series.shape"
   ]
  },
  {
   "cell_type": "code",
   "execution_count": null,
   "metadata": {
    "tags": []
   },
   "outputs": [],
   "source": [
    "# use these values tp normalize the data\n",
    "# and then renormalize your predictions\n",
    "\n",
    "mean = np.mean(series)\n",
    "std = np.std(series)\n",
    "max = np.max(series)\n",
    "min = np.min(series)\n",
    "\n",
    "print(f\"mean = {mean}, std = {std}, max = {max}, min = {min}\")"
   ]
  },
  {
   "cell_type": "code",
   "execution_count": null,
   "metadata": {},
   "outputs": [],
   "source": [
    "series = (series - mean) / std \n",
    "series.shape"
   ]
  },
  {
   "cell_type": "code",
   "execution_count": null,
   "metadata": {
    "tags": []
   },
   "outputs": [],
   "source": [
    "X_train, X_test = series[:1200, :n_steps], series[1200:-1, :n_steps]\n",
    "print(f\"{X_train.shape}, {X_test.shape}\")"
   ]
  },
  {
   "cell_type": "code",
   "execution_count": null,
   "metadata": {},
   "outputs": [],
   "source": [
    "from numpy import random\n",
    "import tensorflow as tf\n",
    "from tensorflow import keras\n",
    "from tensorflow.keras.regularizers import l2\n",
    "\n",
    "SEED = 32\n",
    "random.random(SEED)\n",
    "tf.random.set_seed(SEED)"
   ]
  },
  {
   "cell_type": "code",
   "execution_count": null,
   "metadata": {},
   "outputs": [],
   "source": [
    "Y = np.empty((1282, n_steps, 10))\n",
    "\n",
    "for step_ahead in range(1,10 + 1):\n",
    "    Y[:,:, step_ahead - 1] = series[:, step_ahead:step_ahead + n_steps, 0]\n",
    "\n",
    "Y_train = Y[:1200]\n",
    "Y_test = Y[1200:-1]"
   ]
  },
  {
   "cell_type": "code",
   "execution_count": null,
   "metadata": {
    "tags": []
   },
   "outputs": [],
   "source": [
    "print(f\"{Y_train.shape}, {Y_test.shape}\")"
   ]
  },
  {
   "cell_type": "code",
   "execution_count": null,
   "metadata": {},
   "outputs": [],
   "source": [
    "keras.backend.clear_session()\n",
    "\n",
    "model = keras.models.Sequential()\n",
    "model.add(keras.layers.InputLayer(input_shape=[None,1]))\n",
    "for rate in (1,2,4,8) * 2:\n",
    "    model.add(keras.layers.Conv1D(\n",
    "        filters=20, kernel_size=2, padding=\"causal\",\n",
    "        activation=\"relu\", dilation_rate=rate))\n",
    "model.add(keras.layers.Conv1D(filters=10, kernel_size=1, kernel_regularizer=l2(0.2)))"
   ]
  },
  {
   "cell_type": "code",
   "execution_count": null,
   "metadata": {},
   "outputs": [],
   "source": [
    "optimizer = keras.optimizers.Adam(learning_rate=0.001)\n",
    "\n",
    "model.compile(loss=\"mse\", optimizer=optimizer)\n",
    "history = model.fit(X_train, Y_train, epochs=300, validation_split=0.2, verbose=0, shuffle=False)"
   ]
  },
  {
   "cell_type": "code",
   "execution_count": null,
   "metadata": {
    "tags": []
   },
   "outputs": [],
   "source": [
    "mse_test = model.evaluate(X_test, Y_test)"
   ]
  },
  {
   "cell_type": "code",
   "execution_count": null,
   "metadata": {},
   "outputs": [],
   "source": [
    "import pandas as pd \n",
    "import matplotlib.pyplot as plt \n",
    "\n",
    "pd.DataFrame(history.history).plot(figsize=(8,5))\n",
    "plt.grid(True)\n",
    "axes = plt.gca()\n",
    "axes.set_ylim(0,1)\n",
    "plt.show()"
   ]
  },
  {
   "cell_type": "code",
   "execution_count": null,
   "metadata": {},
   "outputs": [],
   "source": [
    "X_new = X_test[0]\n",
    "X_new = X_new.reshape((1,50,1))\n",
    "X_new.shape"
   ]
  },
  {
   "cell_type": "code",
   "execution_count": null,
   "metadata": {},
   "outputs": [],
   "source": [
    "y_hat = model.predict(X_new)"
   ]
  },
  {
   "cell_type": "code",
   "execution_count": null,
   "metadata": {},
   "outputs": [],
   "source": [
    "X_prime = np.load(\"X_prime.npy\")\n",
    "X_prime.shape"
   ]
  },
  {
   "cell_type": "code",
   "execution_count": null,
   "metadata": {},
   "outputs": [],
   "source": [
    "X_prime_norm = (X_prime - mean) / std "
   ]
  },
  {
   "cell_type": "code",
   "execution_count": null,
   "metadata": {},
   "outputs": [],
   "source": [
    "y_prime = model.predict(X_prime_norm)"
   ]
  },
  {
   "cell_type": "code",
   "execution_count": null,
   "metadata": {},
   "outputs": [],
   "source": [
    "pred_y_norm = y_prime[0]\n",
    "pred_y_norm"
   ]
  },
  {
   "cell_type": "code",
   "execution_count": null,
   "metadata": {},
   "outputs": [],
   "source": [
    "pred_y_renorm = (pred_y_norm * std) + mean\n",
    "pred_y_renorm"
   ]
  },
  {
   "cell_type": "code",
   "execution_count": null,
   "metadata": {},
   "outputs": [],
   "source": [
    "pred_y_renorm[49]"
   ]
  },
  {
   "cell_type": "code",
   "execution_count": null,
   "metadata": {},
   "outputs": [],
   "source": [
    "plt.figure(figsize=(8,5))\n",
    "plt.plot(y_hat[0][49], label=\"prediction\")\n",
    "plt.plot(Y_test[0][49], label=\"actual\")\n",
    "plt.legend()\n",
    "plt.show()"
   ]
  },
  {
   "cell_type": "code",
   "execution_count": null,
   "metadata": {
    "tags": []
   },
   "outputs": [],
   "source": [
    "\n",
    "X_norm = (X_test * std) + mean\n",
    "X_norm.shape"
   ]
  },
  {
   "cell_type": "code",
   "execution_count": null,
   "metadata": {},
   "outputs": [],
   "source": [
    "model.save(\"mvp1a_mvp.h5\")"
   ]
  },
  {
   "cell_type": "markdown",
   "metadata": {},
   "source": [
    "### calculate rate of chnage of actual and predicted prices (subset)\n"
   ]
  },
  {
   "cell_type": "code",
   "execution_count": null,
   "metadata": {},
   "outputs": [],
   "source": [
    "#change rate\n",
    "actual = np.array([0.0824, 0.607, 0.6238, 0.2756, 0.2074]) \n",
    "prediction = np.array([0.39015, 0.185175, -0.236245, -0.437934, 0.263899])\n"
   ]
  },
  {
   "cell_type": "code",
   "execution_count": null,
   "metadata": {},
   "outputs": [],
   "source": [
    "plt.figure(figsize=(8,5))\n",
    "plt.title(\"Rate of change of actual and predicted prices\")\n",
    "plt.plot(actual, label=\"actual\")\n",
    "plt.plot(prediction, label=\"prediction\")\n",
    "plt.legend()\n",
    "plt.show()"
   ]
  },
  {
   "cell_type": "markdown",
   "metadata": {},
   "source": [
    "### test prediction for next 10 events"
   ]
  },
  {
   "cell_type": "code",
   "execution_count": null,
   "metadata": {},
   "outputs": [],
   "source": [
    "prices_past = np.load(\"prices_past.npy\")"
   ]
  },
  {
   "cell_type": "code",
   "execution_count": null,
   "metadata": {},
   "outputs": [],
   "source": [
    "prices_past.shape"
   ]
  },
  {
   "cell_type": "code",
   "execution_count": null,
   "metadata": {},
   "outputs": [],
   "source": [
    "prices_past"
   ]
  },
  {
   "cell_type": "code",
   "execution_count": null,
   "metadata": {},
   "outputs": [],
   "source": [
    "# normalise the data in prices_past\n",
    "prices_past_norm = (prices_past - mean) / std\n",
    "prices_past_norm"
   ]
  },
  {
   "cell_type": "code",
   "execution_count": null,
   "metadata": {},
   "outputs": [],
   "source": [
    "new_pred = model.predict(prices_past_norm)"
   ]
  },
  {
   "cell_type": "code",
   "execution_count": null,
   "metadata": {},
   "outputs": [],
   "source": [
    "new_pred.shape"
   ]
  },
  {
   "cell_type": "code",
   "execution_count": null,
   "metadata": {},
   "outputs": [],
   "source": [
    "# renormalise the data\n",
    "new_pred_renorm = (new_pred * std) + mean\n",
    "new_pred_renorm.shape"
   ]
  },
  {
   "cell_type": "code",
   "execution_count": null,
   "metadata": {},
   "outputs": [],
   "source": [
    "ave_next_50X10_day_prices = np.average(new_pred_renorm)\n",
    "np.save(\"ave_next_50X10_day_prices\", ave_next_50X10_day_prices)"
   ]
  },
  {
   "cell_type": "code",
   "execution_count": null,
   "metadata": {},
   "outputs": [],
   "source": [
    "item_1_10_day_prediction = new_pred_renorm[0][0]\n",
    "np.save(\"item_1_of_10_day_prediction\", item_1_10_day_prediction)"
   ]
  },
  {
   "cell_type": "code",
   "execution_count": null,
   "metadata": {},
   "outputs": [],
   "source": [
    "item_50_10_day_prediction = new_pred_renorm[0][49]\n",
    "np.save(\"item_50_of_10_day_prediction\", item_50_10_day_prediction)"
   ]
  },
  {
   "cell_type": "code",
   "execution_count": null,
   "metadata": {
    "tags": []
   },
   "outputs": [],
   "source": [
    "sorted_period_prices = []\n",
    "for i in range(50):\n",
    "    sorted_daily_prices = []\n",
    "    for j in range(10):\n",
    "        sorted_daily_prices.append(new_pred_renorm[0][i][j])\n",
    "    sorted_period_prices.append(sorted_daily_prices)\n",
    "\n"
   ]
  },
  {
   "cell_type": "code",
   "execution_count": null,
   "metadata": {},
   "outputs": [],
   "source": [
    "sorted_period_prices = np.array(sorted_period_prices)\n",
    "np.save(\"sorted_period_prices\", sorted_period_prices)"
   ]
  },
  {
   "cell_type": "code",
   "execution_count": null,
   "metadata": {
    "tags": []
   },
   "outputs": [],
   "source": [
    "period1_prices = sorted_period_prices[0]\n",
    "print(f\"average of period1 prices = {np.average(period1_prices)}\")\n",
    "print(f\"max of period1 prices = {np.max(period1_prices)}\")\n",
    "print(f\"min of period1 prices = {np.min(period1_prices)}\")\n",
    "print(f\"std of period1 prices = {np.std(period1_prices)}\")"
   ]
  },
  {
   "cell_type": "code",
   "execution_count": null,
   "metadata": {
    "tags": []
   },
   "outputs": [],
   "source": [
    "period2_prices = sorted_period_prices[1]\n",
    "print(f\"average of period2 prices = {np.average(period2_prices)}\")\n",
    "print(f\"max of period2 prices = {np.max(period2_prices)}\")\n",
    "print(f\"min of period2 prices = {np.min(period2_prices)}\")\n",
    "print(f\"std of period2 prices = {np.std(period2_prices)}\")"
   ]
  },
  {
   "cell_type": "code",
   "execution_count": null,
   "metadata": {
    "tags": []
   },
   "outputs": [],
   "source": [
    "period3_prices = sorted_period_prices[2]\n",
    "print(f\"average of period3 prices = {np.average(period3_prices)}\")\n",
    "print(f\"max of period3 prices = {np.max(period3_prices)}\")\n",
    "print(f\"min of period3 prices = {np.min(period3_prices)}\")\n",
    "print(f\"std of period3 prices = {np.std(period3_prices)}\")"
   ]
  }
 ]
}